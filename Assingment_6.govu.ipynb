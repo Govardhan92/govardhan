{
 "cells": [
  {
   "cell_type": "markdown",
   "id": "c3e4f195",
   "metadata": {},
   "source": [
    "### Assignment-06"
   ]
  },
  {
   "cell_type": "raw",
   "id": "709bcfc9",
   "metadata": {},
   "source": [
    "1. What are escape characters, and how do you use them?\n",
    "\n",
    "Ans:a) Single quote escape character\n",
    "    b) Double quote escape character\n",
    "    c) Tab escape character\n",
    "    d) Newline(line break) escape character"
   ]
  },
  {
   "cell_type": "code",
   "execution_count": 10,
   "id": "421a94b9",
   "metadata": {},
   "outputs": [
    {
     "name": "stdout",
     "output_type": "stream",
     "text": [
      "This is Govardhan's house\n"
     ]
    }
   ],
   "source": [
    "## single quote escape char\n",
    "print('This is Govardhan\\'s house')"
   ]
  },
  {
   "cell_type": "code",
   "execution_count": 6,
   "id": "dcc90190",
   "metadata": {},
   "outputs": [
    {
     "name": "stdout",
     "output_type": "stream",
     "text": [
      "My self,\"Govardhan\",From Pavagada\n"
     ]
    }
   ],
   "source": [
    "## double quite escape char\n",
    "print(\"My self,\\\"Govardhan\\\",From Pavagada\")"
   ]
  },
  {
   "cell_type": "code",
   "execution_count": 15,
   "id": "077b5e87",
   "metadata": {},
   "outputs": [
    {
     "name": "stdout",
     "output_type": "stream",
     "text": [
      "\t This is good\n"
     ]
    }
   ],
   "source": [
    "## Tab Escape character\n",
    "print(\"\\t This is good\")"
   ]
  },
  {
   "cell_type": "code",
   "execution_count": 17,
   "id": "6c55f580",
   "metadata": {},
   "outputs": [
    {
     "name": "stdout",
     "output_type": "stream",
     "text": [
      "key1\n",
      "key2\n",
      "key3\n",
      "\n"
     ]
    }
   ],
   "source": [
    "## Newline or line break escape char\n",
    "print(\"key1\\nkey2\\nkey3\\n\")"
   ]
  },
  {
   "cell_type": "raw",
   "id": "3ed76a67",
   "metadata": {},
   "source": [
    "2. What do the escape characters n and t stand for?\n",
    "\n",
    "Ans: n stands for Newline or Linebreak\n",
    "     t stands for Tab\n",
    "     "
   ]
  },
  {
   "cell_type": "raw",
   "id": "f65acd01",
   "metadata": {},
   "source": [
    "3.What is the way to include backslash characters in a string?\n",
    "\n",
    "Ans:To insert characters that are illegal in a string, use an escape character. An escape character is a backslash \\ followed by the character you want to insert.\n"
   ]
  },
  {
   "cell_type": "raw",
   "id": "b0a8ca40",
   "metadata": {},
   "source": [
    "4.The string \"Howl's Moving Castle\" is a correct value. Why isn't the single quote character in the word Howl's not escaped a problem?\n",
    "\n",
    "Ans:"
   ]
  },
  {
   "cell_type": "code",
   "execution_count": 23,
   "id": "0b34264f",
   "metadata": {},
   "outputs": [
    {
     "name": "stdout",
     "output_type": "stream",
     "text": [
      "Howl's Moving Castle\n"
     ]
    }
   ],
   "source": [
    "## The single quote in Howl's is fine because you've used double quotes to mark the beginning and end of the string.\n",
    "print(\"Howl's Moving Castle\")"
   ]
  },
  {
   "cell_type": "raw",
   "id": "284f74ba",
   "metadata": {},
   "source": [
    "5. How do you write a string of newlines if you don't want to use the n character?"
   ]
  },
  {
   "cell_type": "code",
   "execution_count": 34,
   "id": "b7929356",
   "metadata": {},
   "outputs": [
    {
     "name": "stdout",
     "output_type": "stream",
     "text": [
      "Sandy, is, a good, girl \n"
     ]
    }
   ],
   "source": [
    "# Ans:With triple-quoted string literals, you can use actual newlines instead of \\n\n",
    "\n",
    "print( \"\"\"Sandy, is, a good, girl \"\"\")"
   ]
  },
  {
   "cell_type": "raw",
   "id": "10ac9edd",
   "metadata": {},
   "source": [
    "6. What are the values of the given expressions?\n",
    "'Hello, world!'[1]\n",
    "'Hello, world!'[0:5]\n",
    "'Hello, world!'[:5]\n",
    "'Hello, world!'[3:]\n",
    "\n",
    "Ans:"
   ]
  },
  {
   "cell_type": "code",
   "execution_count": 36,
   "id": "8113bd5e",
   "metadata": {},
   "outputs": [
    {
     "data": {
      "text/plain": [
       "'e'"
      ]
     },
     "execution_count": 36,
     "metadata": {},
     "output_type": "execute_result"
    }
   ],
   "source": [
    "'Hello, world!'[1]"
   ]
  },
  {
   "cell_type": "code",
   "execution_count": 37,
   "id": "1aba42d2",
   "metadata": {},
   "outputs": [
    {
     "data": {
      "text/plain": [
       "'Hello'"
      ]
     },
     "execution_count": 37,
     "metadata": {},
     "output_type": "execute_result"
    }
   ],
   "source": [
    "'Hello, world!'[0:5]"
   ]
  },
  {
   "cell_type": "code",
   "execution_count": 38,
   "id": "701b4653",
   "metadata": {},
   "outputs": [
    {
     "data": {
      "text/plain": [
       "'Hello'"
      ]
     },
     "execution_count": 38,
     "metadata": {},
     "output_type": "execute_result"
    }
   ],
   "source": [
    "'Hello, world!'[:5]"
   ]
  },
  {
   "cell_type": "code",
   "execution_count": 39,
   "id": "194de39a",
   "metadata": {},
   "outputs": [
    {
     "data": {
      "text/plain": [
       "'lo, world!'"
      ]
     },
     "execution_count": 39,
     "metadata": {},
     "output_type": "execute_result"
    }
   ],
   "source": [
    "'Hello, world!'[3:]"
   ]
  },
  {
   "cell_type": "raw",
   "id": "438d37cc",
   "metadata": {},
   "source": [
    "7. What are the values of the following expressions?\n",
    "'Hello'.upper()\n",
    "'Hello'.upper().isupper()\n",
    "'Hello'.upper().lower()\n",
    "\n",
    "Ans:"
   ]
  },
  {
   "cell_type": "code",
   "execution_count": 40,
   "id": "d05e14fb",
   "metadata": {},
   "outputs": [
    {
     "data": {
      "text/plain": [
       "'HELLO'"
      ]
     },
     "execution_count": 40,
     "metadata": {},
     "output_type": "execute_result"
    }
   ],
   "source": [
    "'Hello'.upper()"
   ]
  },
  {
   "cell_type": "code",
   "execution_count": 41,
   "id": "fa55772a",
   "metadata": {},
   "outputs": [
    {
     "data": {
      "text/plain": [
       "True"
      ]
     },
     "execution_count": 41,
     "metadata": {},
     "output_type": "execute_result"
    }
   ],
   "source": [
    "'Hello'.upper().isupper()"
   ]
  },
  {
   "cell_type": "code",
   "execution_count": 43,
   "id": "c50621a4",
   "metadata": {},
   "outputs": [
    {
     "data": {
      "text/plain": [
       "False"
      ]
     },
     "execution_count": 43,
     "metadata": {},
     "output_type": "execute_result"
    }
   ],
   "source": [
    "'Hello'.upper().islower()"
   ]
  },
  {
   "cell_type": "raw",
   "id": "44356b69",
   "metadata": {},
   "source": [
    "8. What are the values of the following expressions?"
   ]
  },
  {
   "cell_type": "code",
   "execution_count": 45,
   "id": "fb9921ec",
   "metadata": {},
   "outputs": [
    {
     "data": {
      "text/plain": [
       "['Remember,', 'remember,', 'the', 'fifth', 'of', 'July']"
      ]
     },
     "execution_count": 45,
     "metadata": {},
     "output_type": "execute_result"
    }
   ],
   "source": [
    "# Ans:\n",
    "'Remember, remember, the fifth of July.'.split()"
   ]
  },
  {
   "cell_type": "code",
   "execution_count": 46,
   "id": "60c7b538",
   "metadata": {},
   "outputs": [
    {
     "data": {
      "text/plain": [
       "'There-can-only-one.'"
      ]
     },
     "execution_count": 46,
     "metadata": {},
     "output_type": "execute_result"
    }
   ],
   "source": [
    "'-'.join('There can only one.'.split())"
   ]
  },
  {
   "cell_type": "code",
   "execution_count": 47,
   "id": "5fbef1e8",
   "metadata": {},
   "outputs": [
    {
     "data": {
      "text/plain": [
       "'Govardhan-Gowda-PS'"
      ]
     },
     "execution_count": 47,
     "metadata": {},
     "output_type": "execute_result"
    }
   ],
   "source": [
    "'-'.join('Govardhan Gowda PS'.split())"
   ]
  },
  {
   "cell_type": "raw",
   "id": "0a760a59",
   "metadata": {},
   "source": [
    "9. What are the methods for right-justifying, left-justifying, and centering a string?\n"
   ]
  },
  {
   "cell_type": "raw",
   "id": "0449e49c",
   "metadata": {},
   "source": [
    "Ans: rjust(), ljust(), Center()\n"
   ]
  },
  {
   "cell_type": "raw",
   "id": "7b59c30d",
   "metadata": {},
   "source": [
    "10. What is the best way to remove whitespace characters from the start or end?"
   ]
  },
  {
   "cell_type": "raw",
   "id": "ddffa0c6",
   "metadata": {},
   "source": [
    "Ans:To remove the spaces present at start and end of the string, you can use strip () function on the string."
   ]
  },
  {
   "cell_type": "code",
   "execution_count": 61,
   "id": "64ab1810",
   "metadata": {},
   "outputs": [
    {
     "name": "stdout",
     "output_type": "stream",
     "text": [
      " \n",
      "\t  python examples \n",
      "\n",
      "\n",
      "23\n",
      "python examples\n",
      "15\n"
     ]
    }
   ],
   "source": [
    "#Example\n",
    "s = ' \\n\\t  python examples \\n\\n'\n",
    "\n",
    "cleanstring = s.strip()\n",
    "\n",
    "# before strip\n",
    "print(s)\n",
    "print(len(s))\n",
    "\n",
    "# after strip\n",
    "print(cleanstring)\n",
    "print(len(cleanstring))\n",
    " "
   ]
  },
  {
   "cell_type": "code",
   "execution_count": null,
   "id": "a8efe058",
   "metadata": {},
   "outputs": [],
   "source": []
  },
  {
   "cell_type": "code",
   "execution_count": null,
   "id": "6a6027fa",
   "metadata": {},
   "outputs": [],
   "source": []
  }
 ],
 "metadata": {
  "kernelspec": {
   "display_name": "Python 3 (ipykernel)",
   "language": "python",
   "name": "python3"
  },
  "language_info": {
   "codemirror_mode": {
    "name": "ipython",
    "version": 3
   },
   "file_extension": ".py",
   "mimetype": "text/x-python",
   "name": "python",
   "nbconvert_exporter": "python",
   "pygments_lexer": "ipython3",
   "version": "3.10.0"
  }
 },
 "nbformat": 4,
 "nbformat_minor": 5
}
