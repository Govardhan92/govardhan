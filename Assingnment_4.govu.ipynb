{
 "cells": [
  {
   "cell_type": "markdown",
   "id": "995a383f",
   "metadata": {},
   "source": [
    "#### Assignment_4"
   ]
  },
  {
   "cell_type": "raw",
   "id": "a2a3132d",
   "metadata": {},
   "source": [
    "1. What exactly is []?\n",
    "\n",
    "Ans:[] represents empty list in python."
   ]
  },
  {
   "cell_type": "raw",
   "id": "741598c4",
   "metadata": {},
   "source": [
    "2. In a list of values stored in a variable called spam, how would you assign the value hello as the\n",
    "third value? (Assume [2, 4, 6, 8, 10] are in spam.)"
   ]
  },
  {
   "cell_type": "code",
   "execution_count": 11,
   "id": "3767fdbe",
   "metadata": {},
   "outputs": [
    {
     "name": "stdout",
     "output_type": "stream",
     "text": [
      "[2, 4, 'hello', 6, 8, 10]\n"
     ]
    }
   ],
   "source": [
    "#Ans:\n",
    "spam = [2,4,6,8,10]\n",
    "for i in spam[:]:\n",
    "    if i == 6 :\n",
    "        spam.insert(2,\"hello\")\n",
    "        spam[2]== \"hello\"\n",
    "        print(spam)"
   ]
  },
  {
   "cell_type": "code",
   "execution_count": 15,
   "id": "dae52b37",
   "metadata": {},
   "outputs": [
    {
     "name": "stdout",
     "output_type": "stream",
     "text": [
      "[2, 4, 'hello', 8, 10]\n"
     ]
    }
   ],
   "source": [
    "spam = [2,4,6,8,10]\n",
    "spam[2] = \"hello\"\n",
    "print(spam)"
   ]
  },
  {
   "cell_type": "code",
   "execution_count": 16,
   "id": "c6ef20aa",
   "metadata": {},
   "outputs": [],
   "source": [
    "#Let&#39;s pretend the spam includes the list ['a', 'b', 'c', 'd'] for the next three queries.\n"
   ]
  },
  {
   "cell_type": "raw",
   "id": "51710298",
   "metadata": {},
   "source": [
    "3. What is the value of spam[int(int('3' * 2) / 11)]?"
   ]
  },
  {
   "cell_type": "code",
   "execution_count": 17,
   "id": "e3ec4005",
   "metadata": {},
   "outputs": [
    {
     "data": {
      "text/plain": [
       "'d'"
      ]
     },
     "execution_count": 17,
     "metadata": {},
     "output_type": "execute_result"
    }
   ],
   "source": [
    "#Ans:\n",
    "spam = ['a','b','c','d']\n",
    "spam[int(int('3'*2)/11)]"
   ]
  },
  {
   "cell_type": "raw",
   "id": "35e662c4",
   "metadata": {},
   "source": [
    "4. What is the value of spam[-1]?"
   ]
  },
  {
   "cell_type": "code",
   "execution_count": 20,
   "id": "2cf69316",
   "metadata": {},
   "outputs": [
    {
     "data": {
      "text/plain": [
       "'d'"
      ]
     },
     "execution_count": 20,
     "metadata": {},
     "output_type": "execute_result"
    }
   ],
   "source": [
    "#Ans:\n",
    "spam[-1]"
   ]
  },
  {
   "cell_type": "raw",
   "id": "210037f0",
   "metadata": {},
   "source": [
    "5. What is the value of spam[:2]?"
   ]
  },
  {
   "cell_type": "code",
   "execution_count": 22,
   "id": "a8bb2330",
   "metadata": {},
   "outputs": [
    {
     "data": {
      "text/plain": [
       "['a', 'b']"
      ]
     },
     "execution_count": 22,
     "metadata": {},
     "output_type": "execute_result"
    }
   ],
   "source": [
    "#Ans:\n",
    "spam[:2]"
   ]
  },
  {
   "cell_type": "code",
   "execution_count": 23,
   "id": "c776c7e0",
   "metadata": {},
   "outputs": [],
   "source": [
    "#Let&#39;s pretend bacon has the list [3.14,'cat',11,'cat',True] for the next three questions."
   ]
  },
  {
   "cell_type": "raw",
   "id": "d8a11f95",
   "metadata": {},
   "source": [
    "6. What is the value of bacon.index('cat')?"
   ]
  },
  {
   "cell_type": "code",
   "execution_count": 25,
   "id": "3e196c2f",
   "metadata": {},
   "outputs": [
    {
     "data": {
      "text/plain": [
       "1"
      ]
     },
     "execution_count": 25,
     "metadata": {},
     "output_type": "execute_result"
    }
   ],
   "source": [
    "#Ans:\n",
    "bacon = [3.14,'cat',11,'cat',True]\n",
    "bacon.index('cat')"
   ]
  },
  {
   "cell_type": "raw",
   "id": "41289b8b",
   "metadata": {},
   "source": [
    "7. How does bacon.append(99) change the look of the list value in bacon?"
   ]
  },
  {
   "cell_type": "code",
   "execution_count": 26,
   "id": "696c77cc",
   "metadata": {},
   "outputs": [],
   "source": [
    "#Ans:\n",
    "bacon = [3.14,'cat',11,'cat',True]\n",
    "bacon.append(99)\n"
   ]
  },
  {
   "cell_type": "code",
   "execution_count": 29,
   "id": "90ac342e",
   "metadata": {},
   "outputs": [
    {
     "data": {
      "text/plain": [
       "[3.14, 'cat', 11, 'cat', True, 99]"
      ]
     },
     "execution_count": 29,
     "metadata": {},
     "output_type": "execute_result"
    }
   ],
   "source": [
    "bacon"
   ]
  },
  {
   "cell_type": "raw",
   "id": "1e27ad7f",
   "metadata": {},
   "source": [
    "8. How does bacon.remove('cat') change the look of the list in bacon?"
   ]
  },
  {
   "cell_type": "code",
   "execution_count": 30,
   "id": "708d22e6",
   "metadata": {},
   "outputs": [],
   "source": [
    "#Ans:\n",
    "bacon.remove('cat')"
   ]
  },
  {
   "cell_type": "code",
   "execution_count": 31,
   "id": "6ea28232",
   "metadata": {},
   "outputs": [
    {
     "data": {
      "text/plain": [
       "[3.14, 11, 'cat', True, 99]"
      ]
     },
     "execution_count": 31,
     "metadata": {},
     "output_type": "execute_result"
    }
   ],
   "source": [
    "bacon"
   ]
  },
  {
   "cell_type": "raw",
   "id": "1502d74b",
   "metadata": {},
   "source": [
    "9. What are the list concatenation and list replication operators?"
   ]
  },
  {
   "cell_type": "raw",
   "id": "c4b83e5f",
   "metadata": {},
   "source": [
    " Ans: The operator for list concatenation is +, while the operator for replication is *.\n",
    "\n"
   ]
  },
  {
   "cell_type": "raw",
   "id": "b69048e4",
   "metadata": {},
   "source": [
    "10. What is difference between the list methods append() and insert()?"
   ]
  },
  {
   "cell_type": "raw",
   "id": "df7f8b8d",
   "metadata": {},
   "source": [
    "Ans: Insert () command - insert the data at given index number while, \n",
    "append () command - insert the data at the end of the list."
   ]
  },
  {
   "cell_type": "raw",
   "id": "28f09712",
   "metadata": {},
   "source": [
    "11. What are the two methods for removing items from a list?"
   ]
  },
  {
   "cell_type": "raw",
   "id": "4fcb12fe",
   "metadata": {},
   "source": [
    "Ans: pop(),clear() and remove() ae the methods of removing items from the list."
   ]
  },
  {
   "cell_type": "raw",
   "id": "f09e748b",
   "metadata": {},
   "source": [
    "12. Describe how list values and string values are identical."
   ]
  },
  {
   "cell_type": "raw",
   "id": "fadf609b",
   "metadata": {},
   "source": [
    "Ans: list Values are stored in the form of int, string, complex, tuple, list etc.\n",
    "     String values are stored in the form of char enclosed with '' or \"\" or str()"
   ]
  },
  {
   "cell_type": "raw",
   "id": "f63ab95b",
   "metadata": {},
   "source": [
    "13. What is the difference between tuples and lists?"
   ]
  },
  {
   "cell_type": "raw",
   "id": "5dae5df0",
   "metadata": {},
   "source": [
    "Ans: Tuple is immutable and it is defined by round brackets '()'.It will not support item assignment but it will change whole list not an individual element.\n",
    "\n",
    "List is mutable or changeable,ordered sequence of elements and it is defined by square brackets '[]'.\n"
   ]
  },
  {
   "cell_type": "raw",
   "id": "e7e4b122",
   "metadata": {},
   "source": [
    "14. How do you type a tuple value that only contains the integer 42?"
   ]
  },
  {
   "cell_type": "code",
   "execution_count": 50,
   "id": "2377809e",
   "metadata": {},
   "outputs": [],
   "source": [
    "#Ans:\n",
    "x = tuple([42])"
   ]
  },
  {
   "cell_type": "code",
   "execution_count": 51,
   "id": "28eddf3a",
   "metadata": {},
   "outputs": [
    {
     "data": {
      "text/plain": [
       "int"
      ]
     },
     "execution_count": 51,
     "metadata": {},
     "output_type": "execute_result"
    }
   ],
   "source": [
    "type(42)"
   ]
  },
  {
   "cell_type": "code",
   "execution_count": 52,
   "id": "4e0ed9d5",
   "metadata": {},
   "outputs": [
    {
     "data": {
      "text/plain": [
       "(42,)"
      ]
     },
     "execution_count": 52,
     "metadata": {},
     "output_type": "execute_result"
    }
   ],
   "source": [
    "x"
   ]
  },
  {
   "cell_type": "raw",
   "id": "1e0fc29f",
   "metadata": {},
   "source": [
    "15. How do you get a list value's tuple form? How do you get a tuple value's list form?"
   ]
  },
  {
   "cell_type": "raw",
   "id": "38e6e3cb",
   "metadata": {},
   "source": [
    "ANS: by typecasting\n",
    "     tuple(l), where l is a list\n",
    "     list(t), where t is a tuple\n",
    "\n"
   ]
  },
  {
   "cell_type": "raw",
   "id": "5560a093",
   "metadata": {},
   "source": [
    "16. Variables that 'contain'list values are not necessarily lists themselves. Instead, what do they\n",
    "contain?\n",
    "\n",
    "Ans: Elements of the list"
   ]
  },
  {
   "cell_type": "raw",
   "id": "1c5e5517",
   "metadata": {},
   "source": [
    "17. How do you distinguish between copy.copy() and copy.deepcopy()?\n",
    "\n",
    "ANS: copy.copy() will copy the collection in different location and can be checked by using id() upto an extent.\n",
    "    copy.deepcopy() will copy the collection recursively and only this will only applicable in case of nested list where using deep copy will store a new location.\n"
   ]
  },
  {
   "cell_type": "code",
   "execution_count": null,
   "id": "4d794e82",
   "metadata": {
    "scrolled": true
   },
   "outputs": [],
   "source": []
  },
  {
   "cell_type": "code",
   "execution_count": null,
   "id": "3d25f7c1",
   "metadata": {},
   "outputs": [],
   "source": []
  }
 ],
 "metadata": {
  "kernelspec": {
   "display_name": "Python 3 (ipykernel)",
   "language": "python",
   "name": "python3"
  },
  "language_info": {
   "codemirror_mode": {
    "name": "ipython",
    "version": 3
   },
   "file_extension": ".py",
   "mimetype": "text/x-python",
   "name": "python",
   "nbconvert_exporter": "python",
   "pygments_lexer": "ipython3",
   "version": "3.10.0"
  }
 },
 "nbformat": 4,
 "nbformat_minor": 5
}
