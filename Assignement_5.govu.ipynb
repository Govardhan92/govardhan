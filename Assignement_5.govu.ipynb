{
 "cells": [
  {
   "cell_type": "markdown",
   "id": "84ea7ebc",
   "metadata": {},
   "source": [
    "### Assignment_5"
   ]
  },
  {
   "cell_type": "raw",
   "id": "d6ffa74e",
   "metadata": {},
   "source": [
    "1. What does an empty dictionary's code look like?\n",
    "\n",
    "Ans:Two curly braces {} is an empty dictionary's code.\n",
    "dict = {}"
   ]
  },
  {
   "cell_type": "raw",
   "id": "2c2ee0c8",
   "metadata": {},
   "source": [
    "2. What is the value of a dictionary value with the key 'foo' and the value 42?"
   ]
  },
  {
   "cell_type": "code",
   "execution_count": 13,
   "id": "39a5a6bf",
   "metadata": {},
   "outputs": [],
   "source": [
    "#Ans:\n",
    "d={'foo' : 42}"
   ]
  },
  {
   "cell_type": "code",
   "execution_count": 15,
   "id": "4e60a546",
   "metadata": {},
   "outputs": [
    {
     "data": {
      "text/plain": [
       "42"
      ]
     },
     "execution_count": 15,
     "metadata": {},
     "output_type": "execute_result"
    }
   ],
   "source": [
    "# the dict value with key 'foo' is 42\n",
    "d['foo']"
   ]
  },
  {
   "cell_type": "raw",
   "id": "1a74c404",
   "metadata": {},
   "source": [
    "3. What is the most significant distinction between a dictionary and a list?\n",
    "\n",
    "Ans:List- ordered sequence of items\n",
    "    dict- unordered collection of items"
   ]
  },
  {
   "cell_type": "raw",
   "id": "818d676b",
   "metadata": {},
   "source": [
    "4. What happens if you try to access spam['foo'] if spam is {'bar': 100}?"
   ]
  },
  {
   "cell_type": "code",
   "execution_count": 16,
   "id": "a61c2701",
   "metadata": {},
   "outputs": [],
   "source": [
    "# Ans:\n",
    "spam = {'bar' : 100}"
   ]
  },
  {
   "cell_type": "code",
   "execution_count": 19,
   "id": "e26c23d6",
   "metadata": {},
   "outputs": [
    {
     "ename": "KeyError",
     "evalue": "'foo'",
     "output_type": "error",
     "traceback": [
      "\u001b[1;31m---------------------------------------------------------------------------\u001b[0m",
      "\u001b[1;31mKeyError\u001b[0m                                  Traceback (most recent call last)",
      "\u001b[1;32m~\\AppData\\Local\\Temp/ipykernel_11280/3999281786.py\u001b[0m in \u001b[0;36m<module>\u001b[1;34m\u001b[0m\n\u001b[1;32m----> 1\u001b[1;33m \u001b[0mspam\u001b[0m\u001b[1;33m[\u001b[0m\u001b[1;34m'foo'\u001b[0m\u001b[1;33m]\u001b[0m\u001b[1;33m\u001b[0m\u001b[1;33m\u001b[0m\u001b[0m\n\u001b[0m",
      "\u001b[1;31mKeyError\u001b[0m: 'foo'"
     ]
    }
   ],
   "source": [
    "# key error\n",
    "spam['foo']"
   ]
  },
  {
   "cell_type": "raw",
   "id": "070a554a",
   "metadata": {},
   "source": [
    "6. If a dictionary is stored in spam, what is the difference between the expressions 'cat' in spam and\n",
    "'cat' in spam.values()?\n",
    "\n",
    "Ans: There is no difference"
   ]
  },
  {
   "cell_type": "code",
   "execution_count": 22,
   "id": "c8badee4",
   "metadata": {},
   "outputs": [
    {
     "data": {
      "text/plain": [
       "True"
      ]
     },
     "execution_count": 22,
     "metadata": {},
     "output_type": "execute_result"
    }
   ],
   "source": [
    "spam = {'cat' : 100}\n",
    "'cat' in spam"
   ]
  },
  {
   "cell_type": "code",
   "execution_count": 25,
   "id": "3dfcf672",
   "metadata": {},
   "outputs": [
    {
     "data": {
      "text/plain": [
       "True"
      ]
     },
     "execution_count": 25,
     "metadata": {},
     "output_type": "execute_result"
    }
   ],
   "source": [
    "'cat' in spam.keys()"
   ]
  },
  {
   "cell_type": "raw",
   "id": "4c9463a3",
   "metadata": {},
   "source": [
    "7. What is a shortcut for the following code?\n",
    "if' color' not in spam:\n",
    "spam['color'] = 'black'"
   ]
  },
  {
   "cell_type": "code",
   "execution_count": 27,
   "id": "51b019ed",
   "metadata": {},
   "outputs": [
    {
     "data": {
      "text/plain": [
       "{'cat': 100, 'color': 'black'}"
      ]
     },
     "execution_count": 27,
     "metadata": {},
     "output_type": "execute_result"
    }
   ],
   "source": [
    "# Ans\n",
    "spam = {'cat' : 100}\n",
    "spam.setdefault('color','black')\n",
    "spam"
   ]
  },
  {
   "cell_type": "raw",
   "id": "f6b4ad45",
   "metadata": {},
   "source": [
    "8. How do you\" pretty print\" dictionary values using which module and function?tty\n",
    "\n",
    "Ans: \"pretty print\" means to present something in a more readable format or style."
   ]
  },
  {
   "cell_type": "code",
   "execution_count": 34,
   "id": "a7b8360c",
   "metadata": {},
   "outputs": [],
   "source": [
    "dict_format = [{\"Name\":\"Govardhan\", \"Age\":29,\"Country\":\"India\"},\n",
    "            {\"Name\":\"Sandy\",\"Age\":29,\"Country\":\"USA\"},\n",
    "            {\"Name\":\"Divya\",\"Age\":28,\"Country\":\"Japan\"}\n",
    "           ]"
   ]
  },
  {
   "cell_type": "code",
   "execution_count": 36,
   "id": "add2ecae",
   "metadata": {},
   "outputs": [
    {
     "name": "stdout",
     "output_type": "stream",
     "text": [
      "[{'Age': 29, 'Country': 'India', 'Name': 'Govardhan'},\n",
      " {'Age': 29, 'Country': 'USA', 'Name': 'Sandy'},\n",
      " {'Age': 28, 'Country': 'Japan', 'Name': 'Divya'}]\n"
     ]
    }
   ],
   "source": [
    "# printing with pprint()\n",
    "pprint.pprint(dict_format)"
   ]
  },
  {
   "cell_type": "code",
   "execution_count": 37,
   "id": "5a35386a",
   "metadata": {},
   "outputs": [
    {
     "name": "stdout",
     "output_type": "stream",
     "text": [
      "[{'Name': 'Govardhan', 'Age': 29, 'Country': 'India'}, {'Name': 'Sandy', 'Age': 29, 'Country': 'USA'}, {'Name': 'Divya', 'Age': 28, 'Country': 'Japan'}]\n"
     ]
    }
   ],
   "source": [
    "#Printing with print()\n",
    "print(dict_format)"
   ]
  },
  {
   "cell_type": "code",
   "execution_count": null,
   "id": "583b7e0e",
   "metadata": {},
   "outputs": [],
   "source": []
  }
 ],
 "metadata": {
  "kernelspec": {
   "display_name": "Python 3 (ipykernel)",
   "language": "python",
   "name": "python3"
  },
  "language_info": {
   "codemirror_mode": {
    "name": "ipython",
    "version": 3
   },
   "file_extension": ".py",
   "mimetype": "text/x-python",
   "name": "python",
   "nbconvert_exporter": "python",
   "pygments_lexer": "ipython3",
   "version": "3.10.0"
  }
 },
 "nbformat": 4,
 "nbformat_minor": 5
}
